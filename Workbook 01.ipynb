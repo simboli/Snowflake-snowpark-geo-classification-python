{
 "cells": [
  {
   "cell_type": "markdown",
   "id": "ae6278d7",
   "metadata": {},
   "source": []
  },
  {
   "cell_type": "markdown",
   "id": "d45663af",
   "metadata": {},
   "source": [
    "## Packages"
   ]
  },
  {
   "cell_type": "code",
   "execution_count": 1,
   "id": "1e555077",
   "metadata": {},
   "outputs": [],
   "source": [
    "import os\n",
    "from snowflake.snowpark import Session\n",
    "import pandas as pd\n",
    "from geoClassy import single as gCs\n",
    "import yaml"
   ]
  },
  {
   "cell_type": "markdown",
   "id": "3a16c1f9",
   "metadata": {},
   "source": [
    "## geoClassy preamble"
   ]
  },
  {
   "cell_type": "code",
   "execution_count": 2,
   "id": "e0ee98fb",
   "metadata": {},
   "outputs": [
    {
     "name": "stdout",
     "output_type": "stream",
     "text": [
      "Json module correctly imported\n",
      "Shapely Geometry module correctly imported\n"
     ]
    }
   ],
   "source": [
    "# GEOCLASSY PREAMBLE\n",
    "gCs.requisites()\n",
    "GEOJSON_PATH='USA New York City neighborhood 20190128.geojson'\n",
    "\n",
    "gCs.loadFile(GEOJSON_PATH)"
   ]
  },
  {
   "cell_type": "markdown",
   "id": "b4b39305",
   "metadata": {},
   "source": [
    "# Snowflake credentials"
   ]
  },
  {
   "cell_type": "code",
   "execution_count": 3,
   "id": "c6876914",
   "metadata": {},
   "outputs": [],
   "source": [
    "# Load credentials from YAML file\n",
    "with open(\"credentials.yml\", \"r\") as keyholder:\n",
    "    try:\n",
    "        credentials=yaml.safe_load(keyholder)\n",
    "    except yaml.YAMLError as exc:\n",
    "        print(exc)"
   ]
  },
  {
   "cell_type": "code",
   "execution_count": 4,
   "id": "ea6188d4",
   "metadata": {},
   "outputs": [],
   "source": [
    "CONNECTION_PARAMETERS = {\n",
    "\"account\": credentials['snowflake']['account'],\n",
    "\"user\": credentials['snowflake']['user'],\n",
    "\"password\": credentials['snowflake']['password'],\n",
    "\"database\": credentials['snowflake']['database'],\n",
    "\"schema\": credentials['snowflake']['schema'],\n",
    "\"warehouse\": credentials['snowflake']['warehouse'],\n",
    "}"
   ]
  },
  {
   "cell_type": "markdown",
   "id": "175db0d5",
   "metadata": {},
   "source": [
    "## Snowpark preamble"
   ]
  },
  {
   "cell_type": "code",
   "execution_count": 5,
   "id": "f8bfe756",
   "metadata": {},
   "outputs": [],
   "source": [
    "my_session = Session.builder.configs(CONNECTION_PARAMETERS).create() "
   ]
  },
  {
   "cell_type": "markdown",
   "id": "0ea85509",
   "metadata": {},
   "source": [
    "## Main script"
   ]
  },
  {
   "cell_type": "markdown",
   "id": "9287a197",
   "metadata": {},
   "source": [
    "### Use warehouse"
   ]
  },
  {
   "cell_type": "code",
   "execution_count": 6,
   "id": "098128bd",
   "metadata": {},
   "outputs": [
    {
     "data": {
      "text/plain": [
       "[Row(status='Statement executed successfully.')]"
      ]
     },
     "execution_count": 6,
     "metadata": {},
     "output_type": "execute_result"
    }
   ],
   "source": [
    "my_session.sql(f'''USE WAREHOUSE \"Flakes\";''').collect()"
   ]
  },
  {
   "cell_type": "markdown",
   "id": "3d80db7f",
   "metadata": {},
   "source": [
    "### Load table rows to Pandas DF"
   ]
  },
  {
   "cell_type": "code",
   "execution_count": 7,
   "id": "fb51bdd6",
   "metadata": {},
   "outputs": [],
   "source": [
    "geotable = my_session.table('Poi').sort('Name')\n",
    "geotable_df = geotable.to_pandas()"
   ]
  },
  {
   "cell_type": "code",
   "execution_count": 8,
   "id": "8368e900",
   "metadata": {},
   "outputs": [
    {
     "data": {
      "text/html": [
       "<div>\n",
       "<style scoped>\n",
       "    .dataframe tbody tr th:only-of-type {\n",
       "        vertical-align: middle;\n",
       "    }\n",
       "\n",
       "    .dataframe tbody tr th {\n",
       "        vertical-align: top;\n",
       "    }\n",
       "\n",
       "    .dataframe thead th {\n",
       "        text-align: right;\n",
       "    }\n",
       "</style>\n",
       "<table border=\"1\" class=\"dataframe\">\n",
       "  <thead>\n",
       "    <tr style=\"text-align: right;\">\n",
       "      <th></th>\n",
       "      <th>LAT</th>\n",
       "      <th>LON</th>\n",
       "      <th>NAME</th>\n",
       "      <th>NEIGHBORHOOD</th>\n",
       "    </tr>\n",
       "  </thead>\n",
       "  <tbody>\n",
       "    <tr>\n",
       "      <th>0</th>\n",
       "      <td>40.706700</td>\n",
       "      <td>-74.009800</td>\n",
       "      <td>Crysler Building</td>\n",
       "      <td>None</td>\n",
       "    </tr>\n",
       "    <tr>\n",
       "      <th>1</th>\n",
       "      <td>40.748417</td>\n",
       "      <td>-73.985833</td>\n",
       "      <td>Empire State Building</td>\n",
       "      <td>None</td>\n",
       "    </tr>\n",
       "    <tr>\n",
       "      <th>2</th>\n",
       "      <td>40.741111</td>\n",
       "      <td>-73.989722</td>\n",
       "      <td>Flatiron Building</td>\n",
       "      <td>None</td>\n",
       "    </tr>\n",
       "  </tbody>\n",
       "</table>\n",
       "</div>"
      ],
      "text/plain": [
       "         LAT        LON                   NAME NEIGHBORHOOD\n",
       "0  40.706700 -74.009800       Crysler Building         None\n",
       "1  40.748417 -73.985833  Empire State Building         None\n",
       "2  40.741111 -73.989722      Flatiron Building         None"
      ]
     },
     "execution_count": 8,
     "metadata": {},
     "output_type": "execute_result"
    }
   ],
   "source": [
    "geotable_df.head()"
   ]
  },
  {
   "cell_type": "markdown",
   "id": "1e2423d3",
   "metadata": {},
   "source": [
    "### Use geoClassy to find the neighborhood for each POI of the DF"
   ]
  },
  {
   "cell_type": "code",
   "execution_count": 9,
   "id": "a45659af",
   "metadata": {},
   "outputs": [],
   "source": [
    "geotable_df['NEIGHBORHOOD'] = geotable_df.apply(lambda row: gCs.getNames(pd.to_numeric(row.LAT), pd.to_numeric(row.LON)), axis=1)"
   ]
  },
  {
   "cell_type": "markdown",
   "id": "b2992e9b",
   "metadata": {},
   "source": [
    "### Create a temp table on Snowflake and insert DF rows"
   ]
  },
  {
   "cell_type": "code",
   "execution_count": 10,
   "id": "16755a0d",
   "metadata": {},
   "outputs": [],
   "source": [
    "snowpark_df = my_session.write_pandas(geotable_df, \"POI_temp\", auto_create_table=True, table_type=\"temporary\")"
   ]
  },
  {
   "cell_type": "markdown",
   "id": "baaa67e3",
   "metadata": {},
   "source": [
    "### Update from the temp table"
   ]
  },
  {
   "cell_type": "code",
   "execution_count": 11,
   "id": "cf42d160",
   "metadata": {},
   "outputs": [
    {
     "data": {
      "text/plain": [
       "[Row(number of rows updated=3, number of multi-joined rows updated=0)]"
      ]
     },
     "execution_count": 11,
     "metadata": {},
     "output_type": "execute_result"
    }
   ],
   "source": [
    "my_session.sql(f'''UPDATE \"POI\" A\n",
    "    SET A.NEIGHBORHOOD=B.NEIGHBORHOOD\n",
    "    FROM \"POI_temp\" B\n",
    "    WHERE A.Lat=B.Lat AND A.Lon=B.Lon;''').collect()"
   ]
  },
  {
   "cell_type": "code",
   "execution_count": 12,
   "id": "ddaf2d99",
   "metadata": {},
   "outputs": [
    {
     "data": {
      "text/html": [
       "<div>\n",
       "<style scoped>\n",
       "    .dataframe tbody tr th:only-of-type {\n",
       "        vertical-align: middle;\n",
       "    }\n",
       "\n",
       "    .dataframe tbody tr th {\n",
       "        vertical-align: top;\n",
       "    }\n",
       "\n",
       "    .dataframe thead th {\n",
       "        text-align: right;\n",
       "    }\n",
       "</style>\n",
       "<table border=\"1\" class=\"dataframe\">\n",
       "  <thead>\n",
       "    <tr style=\"text-align: right;\">\n",
       "      <th></th>\n",
       "      <th>LAT</th>\n",
       "      <th>LON</th>\n",
       "      <th>NAME</th>\n",
       "      <th>NEIGHBORHOOD</th>\n",
       "    </tr>\n",
       "  </thead>\n",
       "  <tbody>\n",
       "    <tr>\n",
       "      <th>0</th>\n",
       "      <td>40.706700</td>\n",
       "      <td>-74.009800</td>\n",
       "      <td>Crysler Building</td>\n",
       "      <td>Financial District</td>\n",
       "    </tr>\n",
       "    <tr>\n",
       "      <th>1</th>\n",
       "      <td>40.748417</td>\n",
       "      <td>-73.985833</td>\n",
       "      <td>Empire State Building</td>\n",
       "      <td>Midtown South</td>\n",
       "    </tr>\n",
       "    <tr>\n",
       "      <th>2</th>\n",
       "      <td>40.741111</td>\n",
       "      <td>-73.989722</td>\n",
       "      <td>Flatiron Building</td>\n",
       "      <td>Flatiron District</td>\n",
       "    </tr>\n",
       "  </tbody>\n",
       "</table>\n",
       "</div>"
      ],
      "text/plain": [
       "         LAT        LON                   NAME        NEIGHBORHOOD\n",
       "0  40.706700 -74.009800       Crysler Building  Financial District\n",
       "1  40.748417 -73.985833  Empire State Building       Midtown South\n",
       "2  40.741111 -73.989722      Flatiron Building   Flatiron District"
      ]
     },
     "execution_count": 12,
     "metadata": {},
     "output_type": "execute_result"
    }
   ],
   "source": [
    "snowpark_df.to_pandas()"
   ]
  },
  {
   "cell_type": "code",
   "execution_count": null,
   "id": "6f9cef7b",
   "metadata": {},
   "outputs": [],
   "source": []
  }
 ],
 "metadata": {
  "kernelspec": {
   "display_name": "snowenv",
   "language": "python",
   "name": "snowenv"
  },
  "language_info": {
   "codemirror_mode": {
    "name": "ipython",
    "version": 3
   },
   "file_extension": ".py",
   "mimetype": "text/x-python",
   "name": "python",
   "nbconvert_exporter": "python",
   "pygments_lexer": "ipython3",
   "version": "3.8.0"
  }
 },
 "nbformat": 4,
 "nbformat_minor": 5
}
